{
 "cells": [
  {
   "cell_type": "markdown",
   "id": "b18def97",
   "metadata": {},
   "source": [
    "### create of dictionary"
   ]
  },
  {
   "cell_type": "code",
   "execution_count": 2,
   "id": "f602b96b",
   "metadata": {},
   "outputs": [
    {
     "name": "stdout",
     "output_type": "stream",
     "text": [
      "name of employee= manju\n",
      "emp id= 32\n",
      "salary= 10000\n",
      "{'name': 'manju', 'id': 32, 'salary': 10000}\n"
     ]
    }
   ],
   "source": [
    "my_dict={\n",
    "    \"name\":\"manju\",\n",
    "    \"id\":32,\n",
    "    \"salary\":10000\n",
    "}\n",
    "# Access values by giving key\n",
    "print(\"name of employee=\",my_dict[\"name\"])\n",
    "print(\"emp id=\",my_dict[\"id\"])\n",
    "print(\"salary=\",my_dict[\"salary\"])\n",
    "print(my_dict)"
   ]
  },
  {
   "cell_type": "code",
   "execution_count": 5,
   "id": "f28c52b4",
   "metadata": {},
   "outputs": [
    {
     "name": "stdout",
     "output_type": "stream",
     "text": [
      "{'name': 'manju', 'id': 32, 'salary': 9999}\n"
     ]
    }
   ],
   "source": [
    "# Modify employee salary\n",
    "my_dict[\"salary\"]=9999\n",
    "print(my_dict)"
   ]
  },
  {
   "cell_type": "code",
   "execution_count": 6,
   "id": "d750b028",
   "metadata": {},
   "outputs": [
    {
     "name": "stdout",
     "output_type": "stream",
     "text": [
      "{'name': 'manju', 'id': 32, 'salary': 9999, 'dept': 'operations'}\n"
     ]
    }
   ],
   "source": [
    "# Insert a new key-value pair into above dictionary\n",
    "my_dict[\"dept\"]=\"operations\"\n",
    "print(my_dict)"
   ]
  },
  {
   "cell_type": "code",
   "execution_count": 7,
   "id": "f04efe91",
   "metadata": {},
   "outputs": [
    {
     "name": "stdout",
     "output_type": "stream",
     "text": [
      "no.of key-values pairs= 4\n"
     ]
    }
   ],
   "source": [
    "# To print no.of  key-values pairs\n",
    "n=len(my_dict)\n",
    "print(\"no.of key-values pairs=\",n)"
   ]
  },
  {
   "cell_type": "code",
   "execution_count": 8,
   "id": "f2e6c865",
   "metadata": {},
   "outputs": [
    {
     "name": "stdout",
     "output_type": "stream",
     "text": [
      "{'name': 'manju', 'id': 32, 'salary': 9999}\n"
     ]
    }
   ],
   "source": [
    "# To delete a key-value pair from the dictionary\n",
    "del my_dict[\"dept\"]\n",
    "print(my_dict)"
   ]
  },
  {
   "cell_type": "code",
   "execution_count": 9,
   "id": "d02f3aff",
   "metadata": {},
   "outputs": [
    {
     "name": "stdout",
     "output_type": "stream",
     "text": [
      "{'name': 'manju', 'id': 20, 'salary': 10000}\n"
     ]
    }
   ],
   "source": [
    "# Duplicate not allow,it will be overwrite\n",
    "my_dict1={\n",
    "    \"name\":\"manju\",\n",
    "    \"id\":32,\n",
    "    \"salary\":10000,\n",
    "    \"id\":20\n",
    "}\n",
    "print(my_dict1)"
   ]
  },
  {
   "cell_type": "code",
   "execution_count": 10,
   "id": "c34a7d8c",
   "metadata": {},
   "outputs": [
    {
     "name": "stdout",
     "output_type": "stream",
     "text": [
      "keys in divt= dict_keys(['name', 'id', 'salary'])\n"
     ]
    }
   ],
   "source": [
    "# To display only keys my_dict\n",
    "print(\"keys in dict=\",my_dict.keys())"
   ]
  },
  {
   "cell_type": "code",
   "execution_count": 12,
   "id": "5d1dbb70",
   "metadata": {},
   "outputs": [
    {
     "name": "stdout",
     "output_type": "stream",
     "text": [
      "values in the dict= dict_values(['manju', 32, 9999])\n"
     ]
    }
   ],
   "source": [
    "# To display only values my_dict\n",
    "print(\"values in the dict=\",my_dict.values())"
   ]
  },
  {
   "cell_type": "code",
   "execution_count": 14,
   "id": "991575ea",
   "metadata": {},
   "outputs": [
    {
     "name": "stdout",
     "output_type": "stream",
     "text": [
      "item of dict= dict_items([('name', 'manju'), ('id', 32), ('salary', 9999)])\n"
     ]
    }
   ],
   "source": [
    "print(\"item of dict=\",my_dict.items())"
   ]
  },
  {
   "cell_type": "code",
   "execution_count": 18,
   "id": "03d1414d",
   "metadata": {},
   "outputs": [
    {
     "name": "stdout",
     "output_type": "stream",
     "text": [
      "manju\n",
      "None\n"
     ]
    }
   ],
   "source": [
    "print(my_dict.get(\"name\",\"NA\"))\n",
    "print(my_dict.get(\"abc\"))"
   ]
  },
  {
   "cell_type": "code",
   "execution_count": 19,
   "id": "d92af2f7",
   "metadata": {},
   "outputs": [
    {
     "name": "stdout",
     "output_type": "stream",
     "text": [
      "{'name': 'manju', 'id': 32, 'salary': 9999, 'dept': 'opertions'}\n"
     ]
    }
   ],
   "source": [
    "my_dict.update({\"dept\":\"opertions\"})\n",
    "print(my_dict)"
   ]
  },
  {
   "cell_type": "code",
   "execution_count": 22,
   "id": "8b434e6d",
   "metadata": {},
   "outputs": [
    {
     "name": "stdout",
     "output_type": "stream",
     "text": [
      "enter elements in { } :{'m1':50,'m2':70,'m3':90}\n",
      "sum of values in dictionary: 210\n"
     ]
    }
   ],
   "source": [
    "# program to create a dictionary and find the sum of values\n",
    "my_dict3=eval(input(\"enter elements in { } :\"))\n",
    "# Find the sum of values\n",
    "s=sum(my_dict3.values())\n",
    "print(\"sum of values in dictionary:\",s)"
   ]
  },
  {
   "cell_type": "code",
   "execution_count": 23,
   "id": "bddfaa32",
   "metadata": {},
   "outputs": [
    {
     "name": "stdout",
     "output_type": "stream",
     "text": [
      "r\n",
      "g\n",
      "y\n",
      "red\n",
      "green\n",
      "yellow\n",
      "key=r values=red\n",
      "key=g values=green\n",
      "key=y values=yellow\n"
     ]
    }
   ],
   "source": [
    "# usage of for loop to retrieve dictionary elements\n",
    "colors={'r':\"red\",'g':\"green\",'y':\"yellow\"}\n",
    "# display only key values\n",
    "for k in colors:\n",
    "    print(k)\n",
    "\n",
    "# pass keys to dictionary and display the values\n",
    "for k in colors:\n",
    "    print(colors[k])\n",
    "    \n",
    "# items() method returns key and values pair into k,v\n",
    "for k,v in colors.items():\n",
    "    print(\"key={} values={}\".format(k,v))\n"
   ]
  },
  {
   "cell_type": "markdown",
   "id": "ad9121d5",
   "metadata": {},
   "source": [
    "## values. using lamdas"
   ]
  },
  {
   "cell_type": "code",
   "execution_count": 24,
   "id": "8f266375",
   "metadata": {},
   "outputs": [
    {
     "name": "stdout",
     "output_type": "stream",
     "text": [
      "[(10, 'red'), (15, 'blue'), (25, 'white'), (35, 'green')]\n",
      "[(15, 'blue'), (35, 'green'), (10, 'red'), (25, 'white')]\n"
     ]
    }
   ],
   "source": [
    "# take a dictionary\n",
    "colors={10:\"red\",35:\"green\",15:\"blue\",25:\"white\"}\n",
    "# sort the dictionary by keys i.e 0th element\n",
    "c1=sorted(colors.items(),key=lambda t:t[0])\n",
    "print(c1)\n",
    "# sort the dictionary by values i.e 1st element\n",
    "c2=sorted(colors.items(),key=lambda t:t[1])\n",
    "print(c2)"
   ]
  },
  {
   "cell_type": "code",
   "execution_count": null,
   "id": "d7da993f",
   "metadata": {},
   "outputs": [],
   "source": []
  },
  {
   "cell_type": "code",
   "execution_count": null,
   "id": "63b70aba",
   "metadata": {},
   "outputs": [],
   "source": []
  }
 ],
 "metadata": {
  "kernelspec": {
   "display_name": "Python 3 (ipykernel)",
   "language": "python",
   "name": "python3"
  },
  "language_info": {
   "codemirror_mode": {
    "name": "ipython",
    "version": 3
   },
   "file_extension": ".py",
   "mimetype": "text/x-python",
   "name": "python",
   "nbconvert_exporter": "python",
   "pygments_lexer": "ipython3",
   "version": "3.9.12"
  }
 },
 "nbformat": 4,
 "nbformat_minor": 5
}
