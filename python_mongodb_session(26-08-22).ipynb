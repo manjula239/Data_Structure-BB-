{
 "cells": [
  {
   "cell_type": "markdown",
   "id": "eb553bcc",
   "metadata": {},
   "source": [
    "## MongoDB CRUD operations"
   ]
  },
  {
   "cell_type": "code",
   "execution_count": 3,
   "id": "86dcb971",
   "metadata": {},
   "outputs": [],
   "source": [
    "import pymongo\n",
    "myclient=pymongo.MongoClient(\"mongodb://localhost:27017/\")\n",
    "mydb=myclient[\"evr_db2\"]"
   ]
  },
  {
   "cell_type": "code",
   "execution_count": 4,
   "id": "8232c649",
   "metadata": {},
   "outputs": [
    {
     "data": {
      "text/plain": [
       "MongoClient(host=['localhost:27017'], document_class=dict, tz_aware=False, connect=True)"
      ]
     },
     "execution_count": 4,
     "metadata": {},
     "output_type": "execute_result"
    }
   ],
   "source": [
    "myclient"
   ]
  },
  {
   "cell_type": "code",
   "execution_count": 5,
   "id": "d999bb12",
   "metadata": {},
   "outputs": [
    {
     "data": {
      "text/plain": [
       "Database(MongoClient(host=['localhost:27017'], document_class=dict, tz_aware=False, connect=True), 'evr_db2')"
      ]
     },
     "execution_count": 5,
     "metadata": {},
     "output_type": "execute_result"
    }
   ],
   "source": [
    "mydb"
   ]
  },
  {
   "cell_type": "markdown",
   "id": "78583d8a",
   "metadata": {},
   "source": [
    "## To display database list"
   ]
  },
  {
   "cell_type": "code",
   "execution_count": 6,
   "id": "6e1f79ac",
   "metadata": {},
   "outputs": [
    {
     "name": "stdout",
     "output_type": "stream",
     "text": [
      "['admin', 'config', 'local', 'mydb2']\n"
     ]
    }
   ],
   "source": [
    "print(myclient.list_database_names())"
   ]
  },
  {
   "cell_type": "markdown",
   "id": "bedc2b01",
   "metadata": {},
   "source": [
    "## Creating a collection"
   ]
  },
  {
   "cell_type": "code",
   "execution_count": null,
   "id": "fae54d54",
   "metadata": {},
   "outputs": [],
   "source": [
    "import pymongo\n",
    "myclient=pymongo.MongoClient(\"mongodb://localhost:27017/\")"
   ]
  },
  {
   "cell_type": "code",
   "execution_count": 7,
   "id": "3df94561",
   "metadata": {},
   "outputs": [],
   "source": [
    "mydb=myclient[\"evr_db2\"]\n",
    "mycol=mydb[\"emp\"]"
   ]
  },
  {
   "cell_type": "markdown",
   "id": "97b6a3d8",
   "metadata": {},
   "source": [
    "## To display collection list"
   ]
  },
  {
   "cell_type": "code",
   "execution_count": 8,
   "id": "b01f14ba",
   "metadata": {},
   "outputs": [
    {
     "name": "stdout",
     "output_type": "stream",
     "text": [
      "[]\n"
     ]
    }
   ],
   "source": [
    "print(mydb.list_collection_names())"
   ]
  },
  {
   "cell_type": "code",
   "execution_count": 10,
   "id": "691a240d",
   "metadata": {},
   "outputs": [],
   "source": [
    "mydict={\"name\":\"manju\",\"address\":\"rajahmundry\"}\n",
    "x=mycol.insert_one(mydict)"
   ]
  },
  {
   "cell_type": "code",
   "execution_count": 11,
   "id": "53a0899b",
   "metadata": {},
   "outputs": [
    {
     "name": "stdout",
     "output_type": "stream",
     "text": [
      "['emp']\n"
     ]
    }
   ],
   "source": [
    "print(mydb.list_collection_names())"
   ]
  },
  {
   "cell_type": "code",
   "execution_count": 13,
   "id": "dc4cbc13",
   "metadata": {},
   "outputs": [
    {
     "name": "stdout",
     "output_type": "stream",
     "text": [
      "['admin', 'config', 'evr_db2', 'local', 'mydb2']\n"
     ]
    }
   ],
   "source": [
    "print(myclient.list_database_names())"
   ]
  },
  {
   "cell_type": "code",
   "execution_count": 14,
   "id": "befe1a49",
   "metadata": {},
   "outputs": [
    {
     "name": "stdout",
     "output_type": "stream",
     "text": [
      "630e2bd14c115f65fcb0defd\n"
     ]
    }
   ],
   "source": [
    "mydict={\"name\":\"anju\",\"address\":\"hyderabad\"}\n",
    "x=mycol.insert_one(mydict)\n",
    "print(x.inserted_id)"
   ]
  },
  {
   "cell_type": "markdown",
   "id": "71e640ef",
   "metadata": {},
   "source": [
    "## Insert multiple documents "
   ]
  },
  {
   "cell_type": "code",
   "execution_count": 15,
   "id": "71c2f7f8",
   "metadata": {},
   "outputs": [
    {
     "name": "stdout",
     "output_type": "stream",
     "text": [
      "[ObjectId('630e2d674c115f65fcb0defe'), ObjectId('630e2d674c115f65fcb0deff'), ObjectId('630e2d674c115f65fcb0df00'), ObjectId('630e2d674c115f65fcb0df01')]\n"
     ]
    }
   ],
   "source": [
    "mylist=[\n",
    "    {\"name\":\"suresh\",\"address\":\"bangolore st23\"},\n",
    "    {\"name\":\"naresh\",\"address\":\"hyderabad\"},\n",
    "    {\"name\":\"ganesh\",\"address\":\"delhi\"},\n",
    "    {\"name\":\"mani\",\"address\":\"rajahmundry\"}\n",
    "    ]\n",
    "x=mycol.insert_many(mylist)\n",
    "print(x.inserted_ids)"
   ]
  },
  {
   "cell_type": "markdown",
   "id": "814c2b00",
   "metadata": {},
   "source": [
    "## findone() find()"
   ]
  },
  {
   "cell_type": "code",
   "execution_count": 16,
   "id": "5895454b",
   "metadata": {},
   "outputs": [
    {
     "name": "stdout",
     "output_type": "stream",
     "text": [
      "{'_id': ObjectId('630e2a3a4c115f65fcb0defc'), 'name': 'manju', 'address': 'rajahmundry'}\n"
     ]
    }
   ],
   "source": [
    "x=mycol.find_one()\n",
    "print(x)"
   ]
  },
  {
   "cell_type": "markdown",
   "id": "1d5bd05b",
   "metadata": {},
   "source": [
    "## To display all documents from the collection emp (i.e.,mycol)"
   ]
  },
  {
   "cell_type": "code",
   "execution_count": 17,
   "id": "774e7fe1",
   "metadata": {},
   "outputs": [
    {
     "name": "stdout",
     "output_type": "stream",
     "text": [
      "{'_id': ObjectId('630e2a3a4c115f65fcb0defc'), 'name': 'manju', 'address': 'rajahmundry'}\n",
      "{'_id': ObjectId('630e2bd14c115f65fcb0defd'), 'name': 'anju', 'address': 'hyderabad'}\n",
      "{'_id': ObjectId('630e2d674c115f65fcb0defe'), 'name': 'suresh', 'address': 'bangolore st23'}\n",
      "{'_id': ObjectId('630e2d674c115f65fcb0deff'), 'name': 'naresh', 'address': 'hyderabad'}\n",
      "{'_id': ObjectId('630e2d674c115f65fcb0df00'), 'name': 'ganesh', 'address': 'delhi'}\n",
      "{'_id': ObjectId('630e2d674c115f65fcb0df01'), 'name': 'mani', 'address': 'rajahmundry'}\n"
     ]
    }
   ],
   "source": [
    "for x in mycol.find():\n",
    "    print(x)"
   ]
  }
 ],
 "metadata": {
  "kernelspec": {
   "display_name": "Python 3 (ipykernel)",
   "language": "python",
   "name": "python3"
  },
  "language_info": {
   "codemirror_mode": {
    "name": "ipython",
    "version": 3
   },
   "file_extension": ".py",
   "mimetype": "text/x-python",
   "name": "python",
   "nbconvert_exporter": "python",
   "pygments_lexer": "ipython3",
   "version": "3.9.12"
  }
 },
 "nbformat": 4,
 "nbformat_minor": 5
}
