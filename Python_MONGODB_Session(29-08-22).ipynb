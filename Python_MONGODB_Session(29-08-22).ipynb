{
 "cells": [
  {
   "cell_type": "code",
   "execution_count": 3,
   "id": "d9a27a33",
   "metadata": {},
   "outputs": [],
   "source": [
    "import pymongo\n",
    "myclient=pymongo.MongoClient(\"mongodb://localhost:27017/\")"
   ]
  },
  {
   "cell_type": "code",
   "execution_count": 4,
   "id": "8f45d356",
   "metadata": {},
   "outputs": [],
   "source": [
    "mydb=myclient[\"evr_db2\"]\n",
    "mycol=mydb[\"emp\"]"
   ]
  },
  {
   "cell_type": "code",
   "execution_count": 6,
   "id": "f006f65c",
   "metadata": {},
   "outputs": [
    {
     "name": "stdout",
     "output_type": "stream",
     "text": [
      "[1, 2]\n"
     ]
    }
   ],
   "source": [
    "mylist2=[{\"_id\":1,\"name\":\"john\",\"address\":\"delhi\"},\n",
    "         {\"_id\":2,\"name\":\"manju\",\"address\":\"chennai\"}]\n",
    "x=mycol.insert_many(mylist2)\n",
    "print(x.inserted_ids)"
   ]
  },
  {
   "cell_type": "markdown",
   "id": "0ccd9d7e",
   "metadata": {},
   "source": [
    "## Find documents with the address \"Hyderabad\""
   ]
  },
  {
   "cell_type": "code",
   "execution_count": 7,
   "id": "650a7f8e",
   "metadata": {},
   "outputs": [
    {
     "name": "stdout",
     "output_type": "stream",
     "text": [
      "{'_id': ObjectId('630e2bd14c115f65fcb0defd'), 'name': 'anju', 'address': 'hyderabad'}\n",
      "{'_id': ObjectId('630e2d674c115f65fcb0deff'), 'name': 'naresh', 'address': 'hyderabad'}\n",
      "{'_id': ObjectId('630f60ba057b9b75253876b5'), 'name': 'ravi', 'address': 'hyderabad', 'age': '32'}\n"
     ]
    }
   ],
   "source": [
    "myquery={\"address\":\"hyderabad\"}\n",
    "mydoc=mycol.find(myquery)\n",
    "for x in mydoc:\n",
    "    print(x)"
   ]
  },
  {
   "cell_type": "markdown",
   "id": "f8834b82",
   "metadata": {},
   "source": [
    "## Find documents where address starts with the letter \"H\""
   ]
  },
  {
   "cell_type": "code",
   "execution_count": 9,
   "id": "1d63194d",
   "metadata": {},
   "outputs": [
    {
     "name": "stdout",
     "output_type": "stream",
     "text": [
      "{'_id': ObjectId('630e2bd14c115f65fcb0defd'), 'name': 'anju', 'address': 'hyderabad'}\n",
      "{'_id': ObjectId('630e2d674c115f65fcb0deff'), 'name': 'naresh', 'address': 'hyderabad'}\n",
      "{'_id': ObjectId('630f60ba057b9b75253876b5'), 'name': 'ravi', 'address': 'hyderabad', 'age': '32'}\n"
     ]
    }
   ],
   "source": [
    "## select * from emp where address=\"hyderabad\";\n",
    "myquery={\"address\":{\"$regex\":\"^h\"}}\n",
    "mydoc=mycol.find(myquery)\n",
    "for x in mydoc:\n",
    "    print(x)"
   ]
  },
  {
   "cell_type": "markdown",
   "id": "e2beedd1",
   "metadata": {},
   "source": [
    "## Sorting documents by name"
   ]
  },
  {
   "cell_type": "code",
   "execution_count": 12,
   "id": "526146a5",
   "metadata": {},
   "outputs": [
    {
     "name": "stdout",
     "output_type": "stream",
     "text": [
      "{'_id': ObjectId('630e2bd14c115f65fcb0defd'), 'name': 'anju', 'address': 'hyderabad'}\n",
      "{'_id': ObjectId('630f60108bb556613efc05e9'), 'id': 1, 'name': 'john', 'address': 'delhi'}\n",
      "{'_id': 1, 'name': 'john', 'address': 'delhi'}\n",
      "{'_id': ObjectId('630e2d674c115f65fcb0df01'), 'name': 'mani', 'address': 'rajahmundry'}\n",
      "{'_id': ObjectId('630e2a3a4c115f65fcb0defc'), 'name': 'manju', 'address': 'rajahmundry'}\n",
      "{'_id': ObjectId('630f60108bb556613efc05ea'), 'id': 2, 'name': 'manju', 'address': 'chennai'}\n",
      "{'_id': 2, 'name': 'manju', 'address': 'chennai'}\n",
      "{'_id': ObjectId('630e2d674c115f65fcb0deff'), 'name': 'naresh', 'address': 'hyderabad'}\n",
      "{'_id': ObjectId('630f60ba057b9b75253876b5'), 'name': 'ravi', 'address': 'hyderabad', 'age': '32'}\n",
      "{'_id': ObjectId('630f6147057b9b75253876b6'), 'name': 'sunil', 'address': 'guntur', 'age': 32, 'mobile': 123456789}\n",
      "{'_id': ObjectId('630e2d674c115f65fcb0defe'), 'name': 'suresh', 'address': 'bangolore st23'}\n"
     ]
    }
   ],
   "source": [
    "## select * from emp order by ename;\n",
    "mydoc=mycol.find().sort(\"name\")        # display in descending order\n",
    "for x in mydoc:\n",
    "    print(x)"
   ]
  },
  {
   "cell_type": "markdown",
   "id": "8f25db21",
   "metadata": {},
   "source": [
    "## Deleting document using delete_one()"
   ]
  },
  {
   "cell_type": "code",
   "execution_count": 11,
   "id": "d38aee56",
   "metadata": {},
   "outputs": [
    {
     "data": {
      "text/plain": [
       "<pymongo.results.DeleteResult at 0x22037388dc0>"
      ]
     },
     "execution_count": 11,
     "metadata": {},
     "output_type": "execute_result"
    }
   ],
   "source": [
    "myquery={\"address\":\"delhi\"}\n",
    "mycol.delete_one(myquery)"
   ]
  },
  {
   "cell_type": "markdown",
   "id": "5475f4a1",
   "metadata": {},
   "source": [
    "## Delete many documents"
   ]
  },
  {
   "cell_type": "code",
   "execution_count": 13,
   "id": "e892ee99",
   "metadata": {},
   "outputs": [
    {
     "name": "stdout",
     "output_type": "stream",
     "text": [
      "3 documents deleted.....\n"
     ]
    }
   ],
   "source": [
    "myquery={\"address\":\"hyderabad\"}\n",
    "x=mycol.delete_many(myquery)\n",
    "print(x.deleted_count,\"documents deleted.....\")"
   ]
  },
  {
   "cell_type": "code",
   "execution_count": 14,
   "id": "c4f21d2a",
   "metadata": {},
   "outputs": [
    {
     "name": "stdout",
     "output_type": "stream",
     "text": [
      "{'_id': ObjectId('630e2a3a4c115f65fcb0defc'), 'name': 'manju', 'address': 'rajahmundry'}\n",
      "{'_id': ObjectId('630e2d674c115f65fcb0defe'), 'name': 'suresh', 'address': 'bangolore st23'}\n",
      "{'_id': ObjectId('630e2d674c115f65fcb0df01'), 'name': 'mani', 'address': 'rajahmundry'}\n",
      "{'_id': ObjectId('630f60108bb556613efc05e9'), 'id': 1, 'name': 'john', 'address': 'delhi'}\n",
      "{'_id': ObjectId('630f60108bb556613efc05ea'), 'id': 2, 'name': 'manju', 'address': 'chennai'}\n",
      "{'_id': 1, 'name': 'john', 'address': 'delhi'}\n",
      "{'_id': 2, 'name': 'manju', 'address': 'chennai'}\n",
      "{'_id': ObjectId('630f6147057b9b75253876b6'), 'name': 'sunil', 'address': 'guntur', 'age': 32, 'mobile': 123456789}\n"
     ]
    }
   ],
   "source": [
    "for x in mycol.find():\n",
    "    print(x)"
   ]
  },
  {
   "cell_type": "markdown",
   "id": "0e4107c0",
   "metadata": {},
   "source": [
    "## Update documents using update_one()"
   ]
  },
  {
   "cell_type": "code",
   "execution_count": 15,
   "id": "7284444a",
   "metadata": {},
   "outputs": [
    {
     "name": "stdout",
     "output_type": "stream",
     "text": [
      "{'_id': ObjectId('630e2a3a4c115f65fcb0defc'), 'name': 'manju', 'address': 'rajahmundry'}\n",
      "{'_id': ObjectId('630e2d674c115f65fcb0defe'), 'name': 'suresh', 'address': 'bangolore st23'}\n",
      "{'_id': ObjectId('630e2d674c115f65fcb0df01'), 'name': 'mani', 'address': 'rajahmundry'}\n",
      "{'_id': ObjectId('630f60108bb556613efc05e9'), 'id': 1, 'name': 'john', 'address': 'delhi'}\n",
      "{'_id': ObjectId('630f60108bb556613efc05ea'), 'id': 2, 'name': 'manju', 'address': 'chennai'}\n",
      "{'_id': 1, 'name': 'john', 'address': 'delhi'}\n",
      "{'_id': 2, 'name': 'manju', 'address': 'chennai'}\n",
      "{'_id': ObjectId('630f6147057b9b75253876b6'), 'name': 'sunil', 'address': 'hyderabad', 'age': 32, 'mobile': 123456789}\n"
     ]
    }
   ],
   "source": [
    "myquery={\"address\":\"guntur\"}\n",
    "newvalues={\"$set\":{\"address\":\"hyderabad\"}}\n",
    "mycol.update_one(myquery,newvalues)\n",
    "for x in mycol.find():\n",
    "    print(x)"
   ]
  },
  {
   "cell_type": "markdown",
   "id": "ef2a9cd4",
   "metadata": {},
   "source": [
    "##  using Limit()"
   ]
  },
  {
   "cell_type": "code",
   "execution_count": 16,
   "id": "3f46bf40",
   "metadata": {},
   "outputs": [
    {
     "name": "stdout",
     "output_type": "stream",
     "text": [
      "{'_id': ObjectId('630e2a3a4c115f65fcb0defc'), 'name': 'manju', 'address': 'rajahmundry'}\n",
      "{'_id': ObjectId('630e2d674c115f65fcb0defe'), 'name': 'suresh', 'address': 'bangolore st23'}\n"
     ]
    }
   ],
   "source": [
    "myresult=mycol.find().limit(2)\n",
    "for x in myresult:\n",
    "    print(x)"
   ]
  },
  {
   "cell_type": "markdown",
   "id": "847eee99",
   "metadata": {},
   "source": [
    "## Drop collection"
   ]
  },
  {
   "cell_type": "code",
   "execution_count": 17,
   "id": "23155209",
   "metadata": {},
   "outputs": [],
   "source": [
    "mycol.drop()"
   ]
  }
 ],
 "metadata": {
  "kernelspec": {
   "display_name": "Python 3 (ipykernel)",
   "language": "python",
   "name": "python3"
  },
  "language_info": {
   "codemirror_mode": {
    "name": "ipython",
    "version": 3
   },
   "file_extension": ".py",
   "mimetype": "text/x-python",
   "name": "python",
   "nbconvert_exporter": "python",
   "pygments_lexer": "ipython3",
   "version": "3.9.12"
  }
 },
 "nbformat": 4,
 "nbformat_minor": 5
}
