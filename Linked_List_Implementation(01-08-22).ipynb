{
 "cells": [
  {
   "cell_type": "markdown",
   "id": "a7070dde",
   "metadata": {},
   "source": [
    "## Implementation of linked list"
   ]
  },
  {
   "cell_type": "code",
   "execution_count": 6,
   "id": "e9d3320c",
   "metadata": {},
   "outputs": [
    {
     "name": "stdout",
     "output_type": "stream",
     "text": [
      "the existing list= ['india', 'america', 'japan']\n",
      "1:add element\n",
      "2:remove element\n",
      "3:replace element\n",
      "4:search for  element\n",
      "5:exit\n",
      "enter your choice:1\n",
      "enter element:singapore\n",
      "at what position...:3\n",
      "list= ['india', 'america', 'japan', 'singapore']\n",
      "1:add element\n",
      "2:remove element\n",
      "3:replace element\n",
      "4:search for  element\n",
      "5:exit\n",
      "enter your choice:2\n",
      "enter element:japan\n",
      "list= ['india', 'america', 'singapore']\n",
      "1:add element\n",
      "2:remove element\n",
      "3:replace element\n",
      "4:search for  element\n",
      "5:exit\n",
      "enter your choice:3\n",
      "enter element:USA\n",
      "at what position...:2\n",
      "list= ['india', 'america', 'USA', 'singapore']\n",
      "1:add element\n",
      "2:remove element\n",
      "3:replace element\n",
      "4:search for  element\n",
      "5:exit\n",
      "enter your choice:4\n",
      "enter element:UK\n",
      "element not found....\n",
      "list= ['india', 'america', 'USA', 'singapore']\n",
      "1:add element\n",
      "2:remove element\n",
      "3:replace element\n",
      "4:search for  element\n",
      "5:exit\n",
      "enter your choice:5\n"
     ]
    }
   ],
   "source": [
    "# create an empty list\n",
    "l1=[]\n",
    "# add string to l1\n",
    "l1.append(\"india\")\n",
    "l1.append(\"america\")\n",
    "l1.append(\"japan\")\n",
    "# display the list\n",
    "print(\"the existing list=\",l1)\n",
    "# display menu\n",
    "choice=0\n",
    "while choice<5:\n",
    "    print(\"1:add element\")\n",
    "    print(\"2:remove element\")\n",
    "    print(\"3:replace element\")\n",
    "    print(\"4:search for  element\")\n",
    "    print(\"5:exit\")\n",
    "    choice=int(input(\"enter your choice:\"))\n",
    "    if choice==1:\n",
    "        element=input(\"enter element:\")\n",
    "        pos=int(input(\"at what position...:\"))\n",
    "        l1.insert(pos,element)\n",
    "    elif choice==2:\n",
    "        try:\n",
    "            element=input(\"enter element:\")\n",
    "            l1.remove(element)\n",
    "        except ValueErroe:\n",
    "            print(\"element is not found....\")\n",
    "    elif choice==3:\n",
    "        element=input(\"enter element:\")\n",
    "        pos=int(input(\"at what position...:\"))\n",
    "        l1.insert(pos,element)\n",
    "    elif choice==4:\n",
    "        element=input(\"enter element:\")\n",
    "        try:\n",
    "            pos=l1.index(element)\n",
    "            print(\"element found position...\")\n",
    "        except ValueError:\n",
    "            print(\"element not found....\")\n",
    "    else:\n",
    "        break\n",
    "    # display the list\n",
    "    print(\"list=\",l1)\n",
    "    "
   ]
  },
  {
   "cell_type": "code",
   "execution_count": null,
   "id": "f2f08c5d",
   "metadata": {},
   "outputs": [],
   "source": []
  }
 ],
 "metadata": {
  "kernelspec": {
   "display_name": "Python 3 (ipykernel)",
   "language": "python",
   "name": "python3"
  },
  "language_info": {
   "codemirror_mode": {
    "name": "ipython",
    "version": 3
   },
   "file_extension": ".py",
   "mimetype": "text/x-python",
   "name": "python",
   "nbconvert_exporter": "python",
   "pygments_lexer": "ipython3",
   "version": "3.9.12"
  }
 },
 "nbformat": 4,
 "nbformat_minor": 5
}
