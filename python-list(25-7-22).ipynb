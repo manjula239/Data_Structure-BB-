{
 "cells": [
  {
   "cell_type": "markdown",
   "id": "9eae4ae8",
   "metadata": {},
   "source": [
    "## Create of list"
   ]
  },
  {
   "cell_type": "code",
   "execution_count": 1,
   "id": "94013186",
   "metadata": {},
   "outputs": [
    {
     "name": "stdout",
     "output_type": "stream",
     "text": [
      "total list= [10, 20, 30, 40, 50]\n"
     ]
    }
   ],
   "source": [
    "# create list with integer number\n",
    "\n",
    "num=[10,20,30,40,50]\n",
    "print('total list=',num)"
   ]
  },
  {
   "cell_type": "code",
   "execution_count": 2,
   "id": "78cdec0e",
   "metadata": {},
   "outputs": [
    {
     "name": "stdout",
     "output_type": "stream",
     "text": [
      "first=10,last=50\n"
     ]
    }
   ],
   "source": [
    "# display first and last element from the above list\n",
    "print('first=%d,last=%d'%(num[0],num[4]))"
   ]
  },
  {
   "cell_type": "code",
   "execution_count": 3,
   "id": "d6880fd7",
   "metadata": {},
   "outputs": [
    {
     "name": "stdout",
     "output_type": "stream",
     "text": [
      "total list= ['manju', 'sri', 'pavani', 'devi']\n"
     ]
    }
   ],
   "source": [
    "# create list with string \n",
    "names=[\"manju\",\"sri\",\"pavani\",\"devi\"]\n",
    "print(\"total list=\",names)"
   ]
  },
  {
   "cell_type": "code",
   "execution_count": 4,
   "id": "19b5f439",
   "metadata": {},
   "outputs": [
    {
     "name": "stdout",
     "output_type": "stream",
     "text": [
      "first=manju,last=devi\n"
     ]
    }
   ],
   "source": [
    "print(\"first=%s,last=%s\"%(names[0],names[3]))"
   ]
  },
  {
   "cell_type": "code",
   "execution_count": 5,
   "id": "2206653f",
   "metadata": {},
   "outputs": [
    {
     "name": "stdout",
     "output_type": "stream",
     "text": [
      "[10, 20, 10.5, 'manjula', 'devi']\n"
     ]
    }
   ],
   "source": [
    "# create a list with different elements\n",
    "x=[10,20,10.5,\"manjula\",'devi']\n",
    "print(x)"
   ]
  },
  {
   "cell_type": "markdown",
   "id": "e860276e",
   "metadata": {},
   "source": [
    "## create a list with range() function"
   ]
  },
  {
   "cell_type": "code",
   "execution_count": 7,
   "id": "3f7dd46d",
   "metadata": {},
   "outputs": [
    {
     "name": "stdout",
     "output_type": "stream",
     "text": [
      "0 1 2 3 4 5 6 7 8 9 "
     ]
    }
   ],
   "source": [
    "# range(start,stop,stepsize)\n",
    "# create a list with 0 to 9\n",
    "list1=range(10)\n",
    "for i in list1:\n",
    "    print(i,'',end='')"
   ]
  },
  {
   "cell_type": "code",
   "execution_count": 8,
   "id": "3d51461f",
   "metadata": {},
   "outputs": [
    {
     "name": "stdout",
     "output_type": "stream",
     "text": [
      "5 6 7 8 9 "
     ]
    }
   ],
   "source": [
    "# create a list with 0 to 9\n",
    "list2=range(5,10)\n",
    "for i in list2:\n",
    "    print(i,'',end='')"
   ]
  },
  {
   "cell_type": "code",
   "execution_count": 10,
   "id": "882c0da1",
   "metadata": {},
   "outputs": [
    {
     "name": "stdout",
     "output_type": "stream",
     "text": [
      "5 ,7 ,9 ,"
     ]
    }
   ],
   "source": [
    "list3=range(5,10,2)\n",
    "for i in list3:\n",
    "    print(i,',',end='')"
   ]
  },
  {
   "cell_type": "code",
   "execution_count": 12,
   "id": "c7268a6b",
   "metadata": {},
   "outputs": [
    {
     "name": "stdout",
     "output_type": "stream",
     "text": [
      "using while loop\n",
      "10\n",
      "20\n",
      "30\n",
      "40\n",
      "50\n"
     ]
    }
   ],
   "source": [
    "list=[10,20,30,40,50]\n",
    "print(\"using while loop\")\n",
    "i=0\n",
    "while i<len(list):\n",
    "    print(list[i])\n",
    "    i=i+1"
   ]
  },
  {
   "cell_type": "code",
   "execution_count": 13,
   "id": "5a08e812",
   "metadata": {},
   "outputs": [
    {
     "name": "stdout",
     "output_type": "stream",
     "text": [
      "reverse order:\n",
      "fri\n",
      "thus\n",
      "wed\n",
      "tue\n",
      "mon\n",
      "sun\n"
     ]
    }
   ],
   "source": [
    "# method1\n",
    "# display the list elements in reverse order\n",
    "days=[\"sun\",\"mon\",\"tue\",\"wed\",\"thus\",\"fri\"]\n",
    "print(\"reverse order:\")\n",
    "i=len(days)-1\n",
    "while i>=0:\n",
    "    print(days[i])  # display from 4th to 0th element\n",
    "    i=i-1"
   ]
  },
  {
   "cell_type": "markdown",
   "id": "f02c5768",
   "metadata": {},
   "source": [
    "## concatenation of two list"
   ]
  },
  {
   "cell_type": "code",
   "execution_count": 14,
   "id": "7d0a6f04",
   "metadata": {},
   "outputs": [
    {
     "name": "stdout",
     "output_type": "stream",
     "text": [
      "[10, 20, 30, 40, 100, 200, 300]\n"
     ]
    }
   ],
   "source": [
    "x=[10,20,30,40]\n",
    "y=[100,200,300]\n",
    "print(x+y)"
   ]
  },
  {
   "cell_type": "markdown",
   "id": "8fd0c053",
   "metadata": {},
   "source": [
    "## repetition of lists"
   ]
  },
  {
   "cell_type": "code",
   "execution_count": 15,
   "id": "4770fa12",
   "metadata": {},
   "outputs": [
    {
     "name": "stdout",
     "output_type": "stream",
     "text": [
      "[10, 20, 30, 40, 10, 20, 30, 40]\n"
     ]
    }
   ],
   "source": [
    "print(x*2)"
   ]
  },
  {
   "cell_type": "markdown",
   "id": "1e09e6ed",
   "metadata": {},
   "source": [
    "## membership in list"
   ]
  },
  {
   "cell_type": "code",
   "execution_count": 17,
   "id": "41398242",
   "metadata": {},
   "outputs": [
    {
     "name": "stdout",
     "output_type": "stream",
     "text": [
      "True\n",
      "False\n"
     ]
    }
   ],
   "source": [
    "x=[10,20,30,50]\n",
    "a=20\n",
    "print(a in x)\n",
    "print(a not in x)"
   ]
  },
  {
   "cell_type": "markdown",
   "id": "3007f607",
   "metadata": {},
   "source": [
    "## Aliasing list vs cloning the list"
   ]
  },
  {
   "cell_type": "code",
   "execution_count": 19,
   "id": "8c82fa44",
   "metadata": {},
   "outputs": [
    {
     "name": "stdout",
     "output_type": "stream",
     "text": [
      "[10, 20, 30, 40]\n",
      "[10, 20, 30, 40]\n"
     ]
    }
   ],
   "source": [
    "x=[10,20,30,40]\n",
    "y=x # x is aliased as y\n",
    "print(x)\n",
    "print(y)"
   ]
  },
  {
   "cell_type": "code",
   "execution_count": 20,
   "id": "1328baec",
   "metadata": {},
   "outputs": [
    {
     "name": "stdout",
     "output_type": "stream",
     "text": [
      "[10, 99, 30, 40]\n",
      "[10, 99, 30, 40]\n"
     ]
    }
   ],
   "source": [
    "# After modification \n",
    "x[1]=99\n",
    "print(x)\n",
    "print(y)"
   ]
  },
  {
   "cell_type": "markdown",
   "id": "7ad5e70e",
   "metadata": {},
   "source": [
    "## cloning "
   ]
  },
  {
   "cell_type": "code",
   "execution_count": 21,
   "id": "7fe2af92",
   "metadata": {},
   "outputs": [
    {
     "name": "stdout",
     "output_type": "stream",
     "text": [
      "[10, 20, 30, 40]\n",
      "[10, 20, 30, 40]\n"
     ]
    }
   ],
   "source": [
    "x=[10,20,30,40]\n",
    "y=x[:]    # x is cloned as y\n",
    "print(x)\n",
    "print(y)"
   ]
  },
  {
   "cell_type": "code",
   "execution_count": 22,
   "id": "f38b1e5c",
   "metadata": {},
   "outputs": [
    {
     "name": "stdout",
     "output_type": "stream",
     "text": [
      "[10, 99, 30, 40]\n",
      "[10, 20, 30, 40]\n"
     ]
    }
   ],
   "source": [
    "# After modification \n",
    "x[1]=99\n",
    "print(x)\n",
    "print(y)"
   ]
  },
  {
   "cell_type": "markdown",
   "id": "e9b2034e",
   "metadata": {},
   "source": [
    "## program to understand list processing methods"
   ]
  },
  {
   "cell_type": "code",
   "execution_count": 28,
   "id": "cd1ee968",
   "metadata": {},
   "outputs": [
    {
     "name": "stdout",
     "output_type": "stream",
     "text": [
      "no.of elements in num: 5\n",
      "num after appending 60 [10, 20, 30, 40, 50, 60]\n",
      "num after inserting 5 at 0th position: [5, 10, 20, 30, 40, 50, 60]\n",
      "newly created list num1: [5, 10, 20, 30, 40, 50, 60]\n",
      "num after appending num1: [5, 10, 20, 30, 40, 50, 60, 5, 10, 20, 30, 40, 50, 60]\n"
     ]
    }
   ],
   "source": [
    "# various list methods\n",
    "num=[10,20,30,40,50]\n",
    "n=len(num)\n",
    "print(\"no.of elements in num:\",n)\n",
    "num.append(60)\n",
    "print(\"num after appending 60\",num)\n",
    "num.insert(0,5)\n",
    "print(\"num after inserting 5 at 0th position:\",num)\n",
    "num1=num.copy()\n",
    "print(\"newly created list num1:\",num1)\n",
    "num.extend(num1)\n",
    "print(\"num after appending num1:\",num)"
   ]
  },
  {
   "cell_type": "code",
   "execution_count": 39,
   "id": "96914601",
   "metadata": {},
   "outputs": [
    {
     "name": "stdout",
     "output_type": "stream",
     "text": [
      "no.of times 50 found in the list num: 0\n",
      "num after removing ending element: [40, 30, 30, 20, 20, 10, 10, 5]\n",
      "num after sorting: [5, 10, 10, 20, 20, 30, 30, 40]\n",
      "num after reverse: [40, 30, 30, 20, 20, 10, 10, 5]\n",
      "num after removing all elements: []\n"
     ]
    }
   ],
   "source": [
    "n=num.count(50)\n",
    "print(\"no.of times 50 found in the list num:\",n)\n",
    "# num.remove(50)\n",
    "# print(\"num after removing 50:\",num)\n",
    "num.pop()\n",
    "print(\"num after removing ending element:\",num)\n",
    "num.sort()\n",
    "print(\"num after sorting:\",num)\n",
    "num.reverse()\n",
    "print(\"num after reverse:\",num)\n",
    "num.clear()\n",
    "print(\"num after removing all elements:\",num)"
   ]
  },
  {
   "cell_type": "markdown",
   "id": "3f2e2737",
   "metadata": {},
   "source": [
    "## program for find max and min elements in a list of elements"
   ]
  },
  {
   "cell_type": "code",
   "execution_count": 42,
   "id": "9403a0e9",
   "metadata": {},
   "outputs": [
    {
     "name": "stdout",
     "output_type": "stream",
     "text": [
      "how many elements?5\n",
      "enter element:23\n",
      "enter element:29\n",
      "enter element:5\n",
      "enter element:9\n",
      "enter element:23\n",
      "the list is: [23, 29, 5, 9, 23]\n",
      "maximum value is: 29\n",
      "minimum value is: 5\n"
     ]
    }
   ],
   "source": [
    "x=[]\n",
    "print(\"how many elements?\",end='') \n",
    "n=int(input())   # accept input into n\n",
    "for i in range(n):\n",
    "    print(\"enter element:\",end='')\n",
    "    x.append(int(input()))   # add element to the list x\n",
    "print(\"the list is:\",x)   # display the list\n",
    "big=x[0]\n",
    "small=x[0]\n",
    "for i in range(1,n):\n",
    "    if x[i]>big:\n",
    "        big=x[i]   # if any other elements is >big,take it as big\n",
    "    if x[i]<small:\n",
    "        small=x[i]\n",
    "print(\"maximum value is:\",big)\n",
    "print(\"minimum value is:\",small)"
   ]
  },
  {
   "cell_type": "code",
   "execution_count": 4,
   "id": "a704937f",
   "metadata": {},
   "outputs": [
    {
     "name": "stdout",
     "output_type": "stream",
     "text": [
      "reverse order:\n",
      "fri\n"
     ]
    }
   ],
   "source": [
    "days=[\"sun\",\"mon\",\"tue\",\"wed\",\"thus\",\"fri\"]\n",
    "print(\"reverse order:\")\n",
    "print(days[-1])\n"
   ]
  }
 ],
 "metadata": {
  "kernelspec": {
   "display_name": "Python 3 (ipykernel)",
   "language": "python",
   "name": "python3"
  },
  "language_info": {
   "codemirror_mode": {
    "name": "ipython",
    "version": 3
   },
   "file_extension": ".py",
   "mimetype": "text/x-python",
   "name": "python",
   "nbconvert_exporter": "python",
   "pygments_lexer": "ipython3",
   "version": "3.9.12"
  }
 },
 "nbformat": 4,
 "nbformat_minor": 5
}
