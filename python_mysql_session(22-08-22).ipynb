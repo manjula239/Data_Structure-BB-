{
 "cells": [
  {
   "cell_type": "code",
   "execution_count": 2,
   "id": "69285543",
   "metadata": {},
   "outputs": [],
   "source": [
    "import mysql.connector"
   ]
  },
  {
   "cell_type": "code",
   "execution_count": 3,
   "id": "13f93e75",
   "metadata": {},
   "outputs": [
    {
     "name": "stdout",
     "output_type": "stream",
     "text": [
      "<mysql.connector.connection_cext.CMySQLConnection object at 0x000001E9A943C220>\n"
     ]
    }
   ],
   "source": [
    "mydb=mysql.connector.connect(host=\"localhost\",user=\"root\",password=\"manju18\")\n",
    "print(mydb)"
   ]
  },
  {
   "cell_type": "markdown",
   "id": "619f7fcb",
   "metadata": {},
   "source": [
    "## create database"
   ]
  },
  {
   "cell_type": "code",
   "execution_count": 4,
   "id": "cca9d6a7",
   "metadata": {},
   "outputs": [
    {
     "name": "stdout",
     "output_type": "stream",
     "text": [
      "<mysql.connector.connection_cext.CMySQLConnection object at 0x000001E9A943C370>\n"
     ]
    }
   ],
   "source": [
    "mydb=mysql.connector.connect(host=\"localhost\",user=\"root\",password=\"manju18\")\n",
    "print(mydb)\n",
    "mycursor=mydb.cursor()\n",
    "mycursor.execute(\"CREATE DATABASE python_db2\")"
   ]
  },
  {
   "cell_type": "markdown",
   "id": "78d7b019",
   "metadata": {},
   "source": [
    "## To show all databases"
   ]
  },
  {
   "cell_type": "code",
   "execution_count": 6,
   "id": "0139ae05",
   "metadata": {},
   "outputs": [
    {
     "name": "stdout",
     "output_type": "stream",
     "text": [
      "('information_schema',)\n",
      "('manju',)\n",
      "('manjudb',)\n",
      "('mysql',)\n",
      "('performance_schema',)\n",
      "('python_db2',)\n",
      "('sys',)\n"
     ]
    }
   ],
   "source": [
    "mydb=mysql.connector.connect(host=\"localhost\",user=\"root\",password=\"manju18\")\n",
    "mycursor=mydb.cursor()\n",
    "mycursor.execute(\"show databases\")\n",
    "for x in mycursor:\n",
    "    print(x)"
   ]
  },
  {
   "cell_type": "markdown",
   "id": "fe188a08",
   "metadata": {},
   "source": [
    "## Table creation"
   ]
  },
  {
   "cell_type": "code",
   "execution_count": 9,
   "id": "3be15fa6",
   "metadata": {},
   "outputs": [],
   "source": [
    "mydb=mysql.connector.connect(host=\"localhost\",user=\"root\",password=\"manju18\",database=\"python_db2\")\n",
    "mycursor=mydb.cursor()\n",
    "mycursor.execute(\"create table customer1(name varchar(50),address varchar(50))\")\n"
   ]
  },
  {
   "cell_type": "markdown",
   "id": "a077514a",
   "metadata": {},
   "source": [
    "## show the list of tables in the given database"
   ]
  },
  {
   "cell_type": "code",
   "execution_count": 15,
   "id": "ab097fc0",
   "metadata": {},
   "outputs": [
    {
     "ename": "AttributeError",
     "evalue": "'CMySQLConnection' object has no attribute 'cursomr'",
     "output_type": "error",
     "traceback": [
      "\u001b[1;31m---------------------------------------------------------------------------\u001b[0m",
      "\u001b[1;31mAttributeError\u001b[0m                            Traceback (most recent call last)",
      "Input \u001b[1;32mIn [15]\u001b[0m, in \u001b[0;36m<cell line: 2>\u001b[1;34m()\u001b[0m\n\u001b[0;32m      1\u001b[0m mydb\u001b[38;5;241m=\u001b[39mmysql\u001b[38;5;241m.\u001b[39mconnector\u001b[38;5;241m.\u001b[39mconnect(host\u001b[38;5;241m=\u001b[39m\u001b[38;5;124m\"\u001b[39m\u001b[38;5;124mlocalhost\u001b[39m\u001b[38;5;124m\"\u001b[39m,user\u001b[38;5;241m=\u001b[39m\u001b[38;5;124m\"\u001b[39m\u001b[38;5;124mroot\u001b[39m\u001b[38;5;124m\"\u001b[39m,password\u001b[38;5;241m=\u001b[39m\u001b[38;5;124m\"\u001b[39m\u001b[38;5;124mmanju18\u001b[39m\u001b[38;5;124m\"\u001b[39m,database\u001b[38;5;241m=\u001b[39m\u001b[38;5;124m\"\u001b[39m\u001b[38;5;124mpython_db2\u001b[39m\u001b[38;5;124m\"\u001b[39m)\n\u001b[1;32m----> 2\u001b[0m mycursor\u001b[38;5;241m=\u001b[39m\u001b[43mmydb\u001b[49m\u001b[38;5;241;43m.\u001b[39;49m\u001b[43mcursomr\u001b[49m()\n\u001b[0;32m      3\u001b[0m mycursor\u001b[38;5;241m.\u001b[39mexecute(\u001b[38;5;124m\"\u001b[39m\u001b[38;5;124mshow tables\u001b[39m\u001b[38;5;124m\"\u001b[39m)\n\u001b[0;32m      4\u001b[0m \u001b[38;5;28;01mfor\u001b[39;00m x \u001b[38;5;129;01min\u001b[39;00m mycursor:\n",
      "\u001b[1;31mAttributeError\u001b[0m: 'CMySQLConnection' object has no attribute 'cursomr'"
     ]
    }
   ],
   "source": [
    "mydb=mysql.connector.connect(host=\"localhost\",user=\"root\",password=\"manju18\",database=\"python_db2\")\n",
    "mycursor=mydb.cursomr()\n",
    "mycursor.execute(\"show tables\")\n",
    "for x in mycursor:\n",
    "    print(x)"
   ]
  },
  {
   "cell_type": "markdown",
   "id": "4a2d3657",
   "metadata": {},
   "source": [
    "## Insert records into table"
   ]
  },
  {
   "cell_type": "code",
   "execution_count": 20,
   "id": "4dd0aa13",
   "metadata": {},
   "outputs": [
    {
     "name": "stdout",
     "output_type": "stream",
     "text": [
      "1 record(s) inserted....\n"
     ]
    }
   ],
   "source": [
    "mydb=mysql.connector.connect(host=\"localhost\",user=\"root\",password=\"manju18\",database=\"python_db2\")\n",
    "mycursor=mydb.cursor()\n",
    "sql=\"insert into customer(name,address) values(%s,%s)\"\n",
    "val=(\"manju\",\"rajahmundry\")\n",
    "mycursor.execute(sql,val)\n",
    "mydb.commit()\n",
    "print(mycursor.rowcount,\"record(s) inserted....\")"
   ]
  },
  {
   "cell_type": "markdown",
   "id": "8f1c1187",
   "metadata": {},
   "source": [
    "## Insert multiple records"
   ]
  },
  {
   "cell_type": "code",
   "execution_count": 17,
   "id": "407ea584",
   "metadata": {},
   "outputs": [
    {
     "name": "stdout",
     "output_type": "stream",
     "text": [
      "3 records inserted....\n"
     ]
    }
   ],
   "source": [
    "mydb=mysql.connector.connect(host=\"localhost\",user=\"root\",password=\"manju18\",database=\"python_db2\")\n",
    "mycursor=mydb.cursor()\n",
    "sql=\"insert into customer(name,address) values(%s,%s)\"\n",
    "val=[('manju','rajahmundry'),\n",
    "     ('kiran','4/7brodipet'),\n",
    "     ('suresh','ameerpet st23')]\n",
    "mycursor.executemany(sql,val)\n",
    "mydb.commit()\n",
    "print(mycursor.rowcount,\"records inserted....\")"
   ]
  },
  {
   "cell_type": "markdown",
   "id": "afeebe27",
   "metadata": {},
   "source": [
    "## Retrieve records from table with fetchall() methods"
   ]
  },
  {
   "cell_type": "code",
   "execution_count": 19,
   "id": "5eb40e91",
   "metadata": {},
   "outputs": [
    {
     "name": "stdout",
     "output_type": "stream",
     "text": [
      "('manju', 'rajahmundry')\n",
      "('devi', 'hyderabad')\n",
      "('manju', 'rajahmundry')\n",
      "('kiran', '4/7brodipet')\n",
      "('suresh', 'ameerpet st23')\n"
     ]
    }
   ],
   "source": [
    "mydb=mysql.connector.connect(host=\"localhost\",user=\"root\",password=\"manju18\",database=\"python_db2\")\n",
    "mycursor=mydb.cursor()\n",
    "mycursor.execute(\"select * from customer\")\n",
    "myresult=mycursor.fetchall()\n",
    "for x in myresult:\n",
    "    print(x)"
   ]
  },
  {
   "cell_type": "markdown",
   "id": "546a166b",
   "metadata": {},
   "source": [
    "## Deletion of records"
   ]
  },
  {
   "cell_type": "code",
   "execution_count": 21,
   "id": "1ca75484",
   "metadata": {},
   "outputs": [
    {
     "name": "stdout",
     "output_type": "stream",
     "text": [
      "3 recor(s) deleted....\n"
     ]
    }
   ],
   "source": [
    "mydb=mysql.connector.connect(host=\"localhost\",user=\"root\",password=\"manju18\",database=\"python_db2\")\n",
    "mycursor=mydb.cursor()\n",
    "mycursor.execute(\"delete from customer where address='rajahmundry'\")\n",
    "mydb.commit()\n",
    "print(mycursor.rowcount,\"recor(s) deleted....\")"
   ]
  }
 ],
 "metadata": {
  "kernelspec": {
   "display_name": "Python 3 (ipykernel)",
   "language": "python",
   "name": "python3"
  },
  "language_info": {
   "codemirror_mode": {
    "name": "ipython",
    "version": 3
   },
   "file_extension": ".py",
   "mimetype": "text/x-python",
   "name": "python",
   "nbconvert_exporter": "python",
   "pygments_lexer": "ipython3",
   "version": "3.9.12"
  }
 },
 "nbformat": 4,
 "nbformat_minor": 5
}
