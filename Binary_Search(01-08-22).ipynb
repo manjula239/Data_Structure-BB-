{
 "cells": [
  {
   "cell_type": "markdown",
   "id": "da7d7639",
   "metadata": {},
   "source": [
    "## Binary Search"
   ]
  },
  {
   "cell_type": "code",
   "execution_count": 1,
   "id": "ff276473",
   "metadata": {},
   "outputs": [
    {
     "name": "stdout",
     "output_type": "stream",
     "text": [
      "Element is present at index  3\n"
     ]
    }
   ],
   "source": [
    "# Iterative Binary Search Function\n",
    "# It returns index of x in given array if present,\n",
    "# else returns -1\n",
    "def binary_search(arr,x):\n",
    "    low = 0\n",
    "    high = len(arr) -1\n",
    "    mid = 0\n",
    "    while low <= high:\n",
    "        mid = (high+low) // 2\n",
    "        # If x is greater, ignore left half\n",
    "        if arr[mid] < x:\n",
    "            low = mid +1\n",
    "        #If x is smaller, ignore right half\n",
    "        elif arr[mid] > x:\n",
    "            high = mid =1\n",
    "        # means x is present at mid\n",
    "        else:\n",
    "            return mid\n",
    "        # If we reach here, then the element was not present\n",
    "    return -1\n",
    "# Test array\n",
    "arr = [2,3,4,10,40]\n",
    "x = 10\n",
    "#Function call\n",
    "result = binary_search(arr,x)\n",
    "if result != -1:\n",
    "    print(\"Element is present at index \",str(result))\n",
    "else:\n",
    "    print(\"Element is not present in array \")"
   ]
  },
  {
   "cell_type": "code",
   "execution_count": 4,
   "id": "561d1961",
   "metadata": {},
   "outputs": [
    {
     "name": "stdout",
     "output_type": "stream",
     "text": [
      "How many elements you want in the list: 5\n",
      "Enter  5  elements:1\n",
      "Enter  5  elements:2\n",
      "Enter  5  elements:3\n",
      "Enter  5  elements:4\n",
      "Enter  5  elements:4\n",
      "Enter element to find :5\n",
      "Element is not present in array \n"
     ]
    }
   ],
   "source": [
    "def binary_search(arr,x):\n",
    "    low = 0\n",
    "    high = len(arr) -1\n",
    "    mid = 0\n",
    "    while low <= high:\n",
    "        mid = (high+low) // 2\n",
    "        # If x is greater, ignore left half\n",
    "        if arr[mid] < x:\n",
    "            low = mid +1\n",
    "        #If x is smaller, ignore right half\n",
    "        elif arr[mid] > x:\n",
    "            high = mid =1\n",
    "        # means x is present at mid\n",
    "        else:\n",
    "            return mid\n",
    "        # If we reach here, then the element was not present\n",
    "    return -1\n",
    "# Test array\n",
    "arr=[]\n",
    "print(\"How many elements you want in the list:\",end=' ')\n",
    "n=int(input())\n",
    "for i in range(n):\n",
    "    print(\"Enter \",n,\" elements:\",end='')\n",
    "    arr.append(int(input()))\n",
    "x=int(input(\"Enter element to find :\"))\n",
    "#Function call\n",
    "result = binary_search(arr,x)\n",
    "if result != -1:\n",
    "    print(\"Element is present at index \",str(result))\n",
    "else:\n",
    "    print(\"Element is not present in array \")\n",
    " "
   ]
  }
 ],
 "metadata": {
  "kernelspec": {
   "display_name": "Python 3 (ipykernel)",
   "language": "python",
   "name": "python3"
  },
  "language_info": {
   "codemirror_mode": {
    "name": "ipython",
    "version": 3
   },
   "file_extension": ".py",
   "mimetype": "text/x-python",
   "name": "python",
   "nbconvert_exporter": "python",
   "pygments_lexer": "ipython3",
   "version": "3.9.12"
  }
 },
 "nbformat": 4,
 "nbformat_minor": 5
}
