{
 "cells": [
  {
   "cell_type": "markdown",
   "id": "e13d74ee",
   "metadata": {},
   "source": [
    "# Queue Implementation"
   ]
  },
  {
   "cell_type": "code",
   "execution_count": 11,
   "id": "8fe895d0",
   "metadata": {},
   "outputs": [
    {
     "name": "stdout",
     "output_type": "stream",
     "text": [
      "1:addition\n",
      "2:exit\n",
      "enter your choice:1\n",
      "enter element:10\n",
      "queue: [10.0]\n",
      "1:addition\n",
      "2:exit\n",
      "enter your choice:1\n",
      "enter element:20\n",
      "queue: [10.0, 20.0]\n",
      "1:addition\n",
      "2:exit\n",
      "enter your choice:1\n",
      "enter element:30\n",
      "queue: [10.0, 20.0, 30.0]\n",
      "1:addition\n",
      "2:exit\n",
      "enter your choice:1\n",
      "enter element:40\n",
      "queue: [10.0, 20.0, 30.0, 40.0]\n",
      "1:addition\n",
      "2:exit\n",
      "enter your choice:2\n"
     ]
    }
   ],
   "source": [
    "class Queue:\n",
    "    def __init__(self):\n",
    "        self.qu=[]\n",
    "    def isempty(self):\n",
    "        return self.qu==[]\n",
    "    def add(self,element):\n",
    "        self.qu.append(element)\n",
    "    def display(self):\n",
    "        return self.qu\n",
    "    \n",
    "qu=Queue()\n",
    "choice=0\n",
    "while choice<2:\n",
    "    print(\"1:addition\")\n",
    "    print(\"2:exit\")\n",
    "    choice=int(input(\"enter your choice:\"))\n",
    "    if(choice==1):\n",
    "        element=float(input(\"enter element:\"))\n",
    "        qu.add(element)\n",
    "    else :\n",
    "        break\n",
    "    print(\"queue:\",qu.display())     "
   ]
  },
  {
   "cell_type": "code",
   "execution_count": 10,
   "id": "164d7dc7",
   "metadata": {},
   "outputs": [
    {
     "name": "stdout",
     "output_type": "stream",
     "text": [
      "1:addition\n",
      "2:delete\n",
      "3:exit\n",
      "enter your choice:1\n",
      "enter element:10\n",
      "queue: [10.0]\n",
      "1:addition\n",
      "2:delete\n",
      "3:exit\n",
      "enter your choice:1\n",
      "enter element:20\n",
      "queue: [10.0, 20.0]\n",
      "1:addition\n",
      "2:delete\n",
      "3:exit\n",
      "enter your choice:1\n",
      "enter element:30\n",
      "queue: [10.0, 20.0, 30.0]\n",
      "1:addition\n",
      "2:delete\n",
      "3:exit\n",
      "enter your choice:2\n",
      "removed element 10.0\n",
      "queue: [20.0, 30.0]\n",
      "1:addition\n",
      "2:delete\n",
      "3:exit\n",
      "enter your choice:3\n"
     ]
    }
   ],
   "source": [
    " class Queue:\n",
    "    def __init__(self):\n",
    "        self.qu=[]\n",
    "    def isempty(self):\n",
    "        return self.qu==[]\n",
    "    def add(self,element):\n",
    "        self.qu.append(element)\n",
    "    def display(self):\n",
    "        return self.qu\n",
    "    def delete(self):\n",
    "        if self.isempty():\n",
    "            return -1\n",
    "        else:\n",
    "            return self.qu.pop(0)\n",
    "    \n",
    "qu=Queue()\n",
    "choice=0\n",
    "while choice<3:\n",
    "    print(\"1:addition\")\n",
    "    print(\"2:delete\")\n",
    "    print(\"3:exit\")\n",
    "    choice=int(input(\"enter your choice:\"))\n",
    "    if(choice==1):\n",
    "        element=float(input(\"enter element:\"))\n",
    "        qu.add(element)\n",
    "    elif choice==2:\n",
    "        element=qu.delete()\n",
    "        if element==-1:\n",
    "            print(\"queue is empty...\")\n",
    "        else:\n",
    "            print(\"removed element\",element)\n",
    "    else :\n",
    "        break\n",
    "    print(\"queue:\",qu.display())     \n"
   ]
  },
  {
   "cell_type": "code",
   "execution_count": null,
   "id": "7196c988",
   "metadata": {},
   "outputs": [],
   "source": []
  }
 ],
 "metadata": {
  "kernelspec": {
   "display_name": "Python 3 (ipykernel)",
   "language": "python",
   "name": "python3"
  },
  "language_info": {
   "codemirror_mode": {
    "name": "ipython",
    "version": 3
   },
   "file_extension": ".py",
   "mimetype": "text/x-python",
   "name": "python",
   "nbconvert_exporter": "python",
   "pygments_lexer": "ipython3",
   "version": "3.9.12"
  }
 },
 "nbformat": 4,
 "nbformat_minor": 5
}
