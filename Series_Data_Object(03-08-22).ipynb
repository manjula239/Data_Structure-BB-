{
 "cells": [
  {
   "cell_type": "markdown",
   "id": "b4e05307",
   "metadata": {},
   "source": [
    "### Creating series from Numpy Array"
   ]
  },
  {
   "cell_type": "code",
   "execution_count": 1,
   "id": "ef47a10e",
   "metadata": {},
   "outputs": [
    {
     "data": {
      "text/plain": [
       "0    10\n",
       "1    20\n",
       "2    30\n",
       "3    40\n",
       "dtype: int32"
      ]
     },
     "execution_count": 1,
     "metadata": {},
     "output_type": "execute_result"
    }
   ],
   "source": [
    "import numpy as np\n",
    "import pandas as pd\n",
    "arr=np.array([10,20,30,40])\n",
    "Ser=pd.Series(arr)\n",
    "Ser"
   ]
  },
  {
   "cell_type": "code",
   "execution_count": 2,
   "id": "b7ae6ca6",
   "metadata": {},
   "outputs": [
    {
     "data": {
      "text/plain": [
       "0    10\n",
       "1    20\n",
       "2    30\n",
       "3    40\n",
       "dtype: int32"
      ]
     },
     "execution_count": 2,
     "metadata": {},
     "output_type": "execute_result"
    }
   ],
   "source": [
    "arr=np.array([10,20,30,40])\n",
    "ser=pd.Series(arr)\n",
    "ser"
   ]
  },
  {
   "cell_type": "code",
   "execution_count": 3,
   "id": "21d01898",
   "metadata": {},
   "outputs": [
    {
     "name": "stdout",
     "output_type": "stream",
     "text": [
      "<class 'pandas.core.series.Series'>\n"
     ]
    }
   ],
   "source": [
    "print(type(ser))"
   ]
  },
  {
   "cell_type": "code",
   "execution_count": 7,
   "id": "83115839",
   "metadata": {},
   "outputs": [
    {
     "data": {
      "text/plain": [
       "array([10, 20, 30, 40])"
      ]
     },
     "execution_count": 7,
     "metadata": {},
     "output_type": "execute_result"
    }
   ],
   "source": [
    "# coverting series into numpy array\n",
    "a=Ser.values\n",
    "a"
   ]
  },
  {
   "cell_type": "code",
   "execution_count": 9,
   "id": "f5271475",
   "metadata": {},
   "outputs": [],
   "source": [
    "# create series from a dictionary\n",
    "my_dict={\n",
    "    \"name\":[\"manju\",\"sri\",\"pavani\",\"devi\"],\n",
    "    \"age\":[25,34,18,45],\n",
    "    \"designation\":[\"developer\",\"tester\",\"CEO\",\"manager\"]\n",
    "}"
   ]
  },
  {
   "cell_type": "code",
   "execution_count": 10,
   "id": "5e0f1e6f",
   "metadata": {},
   "outputs": [
    {
     "data": {
      "text/plain": [
       "name                  [manju, sri, pavani, devi]\n",
       "age                             [25, 34, 18, 45]\n",
       "designation    [developer, tester, CEO, manager]\n",
       "dtype: object"
      ]
     },
     "execution_count": 10,
     "metadata": {},
     "output_type": "execute_result"
    }
   ],
   "source": [
    "# creating series from the dictionary\n",
    "ser1=pd.Series(my_dict)\n",
    "ser1"
   ]
  },
  {
   "cell_type": "code",
   "execution_count": 11,
   "id": "dfd1fdae",
   "metadata": {},
   "outputs": [
    {
     "data": {
      "text/plain": [
       "['manju', 'sri', 'pavani', 'devi']"
      ]
     },
     "execution_count": 11,
     "metadata": {},
     "output_type": "execute_result"
    }
   ],
   "source": [
    "# Accessing elements of a series\n",
    "names=ser1[\"name\"]  # or name=ser1[0]\n",
    "names"
   ]
  },
  {
   "cell_type": "code",
   "execution_count": 12,
   "id": "64f790cb",
   "metadata": {},
   "outputs": [
    {
     "data": {
      "text/plain": [
       "'sri'"
      ]
     },
     "execution_count": 12,
     "metadata": {},
     "output_type": "execute_result"
    }
   ],
   "source": [
    "# To retrieve any name from the list\n",
    "names=ser1[\"name\"][1]\n",
    "names"
   ]
  }
 ],
 "metadata": {
  "kernelspec": {
   "display_name": "Python 3 (ipykernel)",
   "language": "python",
   "name": "python3"
  },
  "language_info": {
   "codemirror_mode": {
    "name": "ipython",
    "version": 3
   },
   "file_extension": ".py",
   "mimetype": "text/x-python",
   "name": "python",
   "nbconvert_exporter": "python",
   "pygments_lexer": "ipython3",
   "version": "3.9.12"
  }
 },
 "nbformat": 4,
 "nbformat_minor": 5
}
